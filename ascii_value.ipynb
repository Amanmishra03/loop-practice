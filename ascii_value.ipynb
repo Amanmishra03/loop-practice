{
 "cells": [
  {
   "cell_type": "markdown",
   "metadata": {},
   "source": [
    "Write a program to print the ASCII values of all uppercase letters using a for loop"
   ]
  },
  {
   "cell_type": "code",
   "execution_count": null,
   "metadata": {},
   "outputs": [],
   "source": [
    "letter = 'ABCDEFGHIJKLMNOPQRSTUVWXYZ'\n",
    "\n",
    "for letters in letter:\n",
    "    ascii_value = ord(letters)\n",
    "    print(f\"The ASCII value of {letters} is {ascii_value}\")"
   ]
  },
  {
   "cell_type": "code",
   "execution_count": 2,
   "metadata": {},
   "outputs": [
    {
     "name": "stdout",
     "output_type": "stream",
     "text": [
      "97 109 97 110 "
     ]
    }
   ],
   "source": [
    "string = input(\"enter any letter: \")\n",
    "\n",
    "for letter in string:\n",
    "    ascii_value  = ord(letter)\n",
    "    print(ascii_value ,end=' ')"
   ]
  }
 ],
 "metadata": {
  "kernelspec": {
   "display_name": "base",
   "language": "python",
   "name": "python3"
  },
  "language_info": {
   "codemirror_mode": {
    "name": "ipython",
    "version": 3
   },
   "file_extension": ".py",
   "mimetype": "text/x-python",
   "name": "python",
   "nbconvert_exporter": "python",
   "pygments_lexer": "ipython3",
   "version": "3.11.4"
  },
  "orig_nbformat": 4
 },
 "nbformat": 4,
 "nbformat_minor": 2
}
