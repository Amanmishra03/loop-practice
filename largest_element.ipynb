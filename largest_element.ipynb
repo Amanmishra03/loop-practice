{
 "cells": [
  {
   "cell_type": "markdown",
   "metadata": {},
   "source": [
    "Write a program to find the largest element in an array using a for loop."
   ]
  },
  {
   "cell_type": "code",
   "execution_count": 13,
   "metadata": {},
   "outputs": [
    {
     "name": "stdout",
     "output_type": "stream",
     "text": [
      "36\n"
     ]
    }
   ],
   "source": [
    "my_array = [1,5,9,8,7,6,3,13,19,36,22,19]\n",
    "large_num = max(my_array)\n",
    "print(large_num)"
   ]
  },
  {
   "cell_type": "code",
   "execution_count": 12,
   "metadata": {},
   "outputs": [
    {
     "name": "stdout",
     "output_type": "stream",
     "text": [
      "36\n"
     ]
    }
   ],
   "source": [
    "my_array = [1,5,9,8,7,6,3,13,19,36,22,19]\n",
    "\n",
    "for element in my_array:\n",
    "    large_element = max(my_array)\n",
    "\n",
    "print(large_element)"
   ]
  },
  {
   "cell_type": "code",
   "execution_count": 14,
   "metadata": {},
   "outputs": [
    {
     "name": "stdout",
     "output_type": "stream",
     "text": [
      "the largest element in the array is :  36\n"
     ]
    }
   ],
   "source": [
    "my_array = [1,5,9,8,7,6,3,13,19,36,22,19]\n",
    "max_element = my_array[0]\n",
    "\n",
    "for element in my_array:\n",
    "    if element > max_element:\n",
    "        max_element = element\n",
    "        \n",
    "print(\"the largest element in the array is : \",max_element)   "
   ]
  }
 ],
 "metadata": {
  "kernelspec": {
   "display_name": "base",
   "language": "python",
   "name": "python3"
  },
  "language_info": {
   "codemirror_mode": {
    "name": "ipython",
    "version": 3
   },
   "file_extension": ".py",
   "mimetype": "text/x-python",
   "name": "python",
   "nbconvert_exporter": "python",
   "pygments_lexer": "ipython3",
   "version": "3.11.4"
  },
  "orig_nbformat": 4
 },
 "nbformat": 4,
 "nbformat_minor": 2
}
