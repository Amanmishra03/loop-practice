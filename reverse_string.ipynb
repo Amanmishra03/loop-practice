{
 "cells": [
  {
   "cell_type": "markdown",
   "metadata": {},
   "source": [
    "Write a program to reverse a given string using a while loop."
   ]
  },
  {
   "cell_type": "code",
   "execution_count": 2,
   "metadata": {},
   "outputs": [
    {
     "name": "stdout",
     "output_type": "stream",
     "text": [
      "aman\n",
      "nama\n"
     ]
    }
   ],
   "source": [
    "string = input(\"enter the string \")\n",
    "print(string)\n",
    "print(string[::-1])"
   ]
  },
  {
   "cell_type": "code",
   "execution_count": null,
   "metadata": {},
   "outputs": [],
   "source": [
    "input_string = input(\"Enter a string: \")\n",
    "reversed_string = \"\"\n",
    "\n",
    "index = len(input_string) - 1  \n",
    "print(index)\n",
    "\n",
    "while index >= 0:\n",
    "    reversed_string += input_string[index]  \n",
    "    index -= 1  \n",
    "\n",
    "print(\"Reversed string:\", reversed_string)\n"
   ]
  },
  {
   "cell_type": "code",
   "execution_count": null,
   "metadata": {},
   "outputs": [],
   "source": [
    "string = input(\"enter string \")\n",
    "index = len(string)\n",
    "\n",
    "while "
   ]
  },
  {
   "cell_type": "code",
   "execution_count": null,
   "metadata": {},
   "outputs": [],
   "source": [
    "def reverse_string(input_string):\n",
    "    reversed_string = ''\n",
    "    index = len(input_string) - 1\n",
    "    while index >= 0:\n",
    "        reversed_string += input_string[index]\n",
    "        index -= 1\n",
    "    return reversed_string\n",
    "\n",
    "# Test the function\n",
    "print(reverse_string('Hello, World!'))  # Output: !dlroW ,olleH"
   ]
  }
 ],
 "metadata": {
  "kernelspec": {
   "display_name": "base",
   "language": "python",
   "name": "python3"
  },
  "language_info": {
   "codemirror_mode": {
    "name": "ipython",
    "version": 3
   },
   "file_extension": ".py",
   "mimetype": "text/x-python",
   "name": "python",
   "nbconvert_exporter": "python",
   "pygments_lexer": "ipython3",
   "version": "3.11.5"
  },
  "orig_nbformat": 4
 },
 "nbformat": 4,
 "nbformat_minor": 2
}
