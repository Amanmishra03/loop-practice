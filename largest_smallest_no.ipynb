{
 "cells": [
  {
   "cell_type": "markdown",
   "metadata": {},
   "source": [
    "Write a program to find the largest and smallest elements in an array using a for loop"
   ]
  },
  {
   "cell_type": "code",
   "execution_count": 1,
   "metadata": {},
   "outputs": [
    {
     "name": "stdout",
     "output_type": "stream",
     "text": [
      "Largest element: 89\n",
      "Smallest element: 7\n"
     ]
    }
   ],
   "source": [
    "array = [12, 45, 7, 23, 56, 89, 32]\n",
    "\n",
    "largest = array[0]\n",
    "smallest = array[0]\n",
    "\n",
    "for num in array:\n",
    "    if num > largest:\n",
    "        largest = num  \n",
    "    elif num < smallest:\n",
    "        smallest = num \n",
    "\n",
    "print(f\"Largest element: {largest}\")\n",
    "print(f\"Smallest element: {smallest}\")\n"
   ]
  },
  {
   "cell_type": "code",
   "execution_count": 1,
   "metadata": {},
   "outputs": [
    {
     "ename": "TypeError",
     "evalue": "'int' object is not iterable",
     "output_type": "error",
     "traceback": [
      "\u001b[1;31m---------------------------------------------------------------------------\u001b[0m",
      "\u001b[1;31mTypeError\u001b[0m                                 Traceback (most recent call last)",
      "\u001b[1;32md:\\Programming\\loop practice\\largest_smallest_no.ipynb Cell 3\u001b[0m line \u001b[0;36m3\n\u001b[0;32m      <a href='vscode-notebook-cell:/d%3A/Programming/loop%20practice/largest_smallest_no.ipynb#W2sZmlsZQ%3D%3D?line=0'>1</a>\u001b[0m array \u001b[39m=\u001b[39m [\u001b[39m12\u001b[39m,\u001b[39m16\u001b[39m,\u001b[39m14\u001b[39m,\u001b[39m3\u001b[39m,\u001b[39m2\u001b[39m,\u001b[39m6\u001b[39m,\u001b[39m5\u001b[39m,\u001b[39m4\u001b[39m,\u001b[39m58\u001b[39m]\n\u001b[0;32m      <a href='vscode-notebook-cell:/d%3A/Programming/loop%20practice/largest_smallest_no.ipynb#W2sZmlsZQ%3D%3D?line=1'>2</a>\u001b[0m \u001b[39mfor\u001b[39;00m num \u001b[39min\u001b[39;00m array:\n\u001b[1;32m----> <a href='vscode-notebook-cell:/d%3A/Programming/loop%20practice/largest_smallest_no.ipynb#W2sZmlsZQ%3D%3D?line=2'>3</a>\u001b[0m     l1 \u001b[39m=\u001b[39m \u001b[39mmax\u001b[39m(num)\n\u001b[0;32m      <a href='vscode-notebook-cell:/d%3A/Programming/loop%20practice/largest_smallest_no.ipynb#W2sZmlsZQ%3D%3D?line=3'>4</a>\u001b[0m     l2 \u001b[39m=\u001b[39m \u001b[39mmin\u001b[39m(num)\n\u001b[0;32m      <a href='vscode-notebook-cell:/d%3A/Programming/loop%20practice/largest_smallest_no.ipynb#W2sZmlsZQ%3D%3D?line=4'>5</a>\u001b[0m \u001b[39mprint\u001b[39m(l1)\n",
      "\u001b[1;31mTypeError\u001b[0m: 'int' object is not iterable"
     ]
    }
   ],
   "source": [
    "array = [12,16,14,3,2,6,5,4,58]\n",
    "for num in array:\n",
    "    l1 = max(num)\n",
    "    l2 = min(num)\n",
    "print(l1)\n",
    "print(l2)"
   ]
  }
 ],
 "metadata": {
  "kernelspec": {
   "display_name": "base",
   "language": "python",
   "name": "python3"
  },
  "language_info": {
   "codemirror_mode": {
    "name": "ipython",
    "version": 3
   },
   "file_extension": ".py",
   "mimetype": "text/x-python",
   "name": "python",
   "nbconvert_exporter": "python",
   "pygments_lexer": "ipython3",
   "version": "3.11.4"
  },
  "orig_nbformat": 4
 },
 "nbformat": 4,
 "nbformat_minor": 2
}
