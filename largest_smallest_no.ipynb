{
 "cells": [
  {
   "cell_type": "markdown",
   "metadata": {},
   "source": [
    "Write a program to find the largest and smallest elements in an array using a for loop"
   ]
  },
  {
   "cell_type": "code",
   "execution_count": 1,
   "metadata": {},
   "outputs": [
    {
     "name": "stdout",
     "output_type": "stream",
     "text": [
      "Largest element: 89\n",
      "Smallest element: 7\n"
     ]
    }
   ],
   "source": [
    "array = [12, 45, 7, 23, 56, 89, 32]\n",
    "\n",
    "largest = array[0]\n",
    "smallest = array[0]\n",
    "\n",
    "for num in array:\n",
    "    if num > largest:\n",
    "        largest = num  \n",
    "    elif num < smallest:\n",
    "        smallest = num \n",
    "\n",
    "print(f\"Largest element: {largest}\")\n",
    "print(f\"Smallest element: {smallest}\")\n"
   ]
  }
 ],
 "metadata": {
  "kernelspec": {
   "display_name": "base",
   "language": "python",
   "name": "python3"
  },
  "language_info": {
   "codemirror_mode": {
    "name": "ipython",
    "version": 3
   },
   "file_extension": ".py",
   "mimetype": "text/x-python",
   "name": "python",
   "nbconvert_exporter": "python",
   "pygments_lexer": "ipython3",
   "version": "3.11.4"
  },
  "orig_nbformat": 4
 },
 "nbformat": 4,
 "nbformat_minor": 2
}
