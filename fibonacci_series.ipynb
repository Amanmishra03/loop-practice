{
 "cells": [
  {
   "cell_type": "markdown",
   "metadata": {},
   "source": [
    "Write a program to print the Fibonacci series up to a given limit using a while loop."
   ]
  },
  {
   "cell_type": "code",
   "execution_count": 3,
   "metadata": {},
   "outputs": [
    {
     "name": "stdout",
     "output_type": "stream",
     "text": [
      "0 1 1 2 3 5 "
     ]
    }
   ],
   "source": [
    "limit = int(input(\"Enter the limit for the Fibonacci series: \"))\n",
    "\n",
    "a, b = 0, 1\n",
    "\n",
    "if limit <= 0:\n",
    "    print(\"Please enter a positive limit.\")\n",
    "elif limit == 1:\n",
    "    print(a)\n",
    "else:\n",
    "    print(a, end=' ')\n",
    "    while b <= limit:\n",
    "        print(b, end=' ')\n",
    "        a, b = b, a + b\n"
   ]
  }
 ],
 "metadata": {
  "kernelspec": {
   "display_name": "base",
   "language": "python",
   "name": "python3"
  },
  "language_info": {
   "codemirror_mode": {
    "name": "ipython",
    "version": 3
   },
   "file_extension": ".py",
   "mimetype": "text/x-python",
   "name": "python",
   "nbconvert_exporter": "python",
   "pygments_lexer": "ipython3",
   "version": "3.11.4"
  },
  "orig_nbformat": 4
 },
 "nbformat": 4,
 "nbformat_minor": 2
}
