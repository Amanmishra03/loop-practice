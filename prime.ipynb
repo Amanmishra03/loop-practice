{
 "cells": [
  {
   "cell_type": "markdown",
   "metadata": {},
   "source": [
    "Write a program to check if a given number is prime or not using a while loop."
   ]
  },
  {
   "cell_type": "code",
   "execution_count": 4,
   "metadata": {},
   "outputs": [
    {
     "name": "stdout",
     "output_type": "stream",
     "text": [
      "no. is not prime \n"
     ]
    }
   ],
   "source": [
    "num = int(input(\"enter a number\"))\n",
    "is_prime = True\n",
    "\n",
    "for i in range(2,num):\n",
    "    if num % i == 0:\n",
    "        is_prime = False\n",
    "        \n",
    "if is_prime == True:\n",
    "    print(\"no is prime \")\n",
    "else:\n",
    "    print(\"no. is not prime \")"
   ]
  }
 ],
 "metadata": {
  "kernelspec": {
   "display_name": "base",
   "language": "python",
   "name": "python3"
  },
  "language_info": {
   "codemirror_mode": {
    "name": "ipython",
    "version": 3
   },
   "file_extension": ".py",
   "mimetype": "text/x-python",
   "name": "python",
   "nbconvert_exporter": "python",
   "pygments_lexer": "ipython3",
   "version": "3.11.4"
  },
  "orig_nbformat": 4
 },
 "nbformat": 4,
 "nbformat_minor": 2
}
